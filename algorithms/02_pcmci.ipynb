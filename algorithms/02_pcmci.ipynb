{
 "cells": [
  {
   "cell_type": "code",
   "execution_count": 1,
   "id": "60bf43a6",
   "metadata": {},
   "outputs": [],
   "source": [
    "import numpy as np\n",
    "import time\n",
    "import tigramite\n",
    "from tigramite.pcmci import PCMCI\n",
    "from tigramite import data_processing as pp\n",
    "from tigramite.independence_tests.parcorr import ParCorr"
   ]
  },
  {
   "cell_type": "code",
   "execution_count": 2,
   "id": "afa149ba",
   "metadata": {},
   "outputs": [],
   "source": [
    "PROJ_ROOT = '/Users/mloui/Documents/STAR/SOFAR'"
   ]
  },
  {
   "cell_type": "code",
   "execution_count": 3,
   "id": "b86e8acd",
   "metadata": {},
   "outputs": [
    {
     "name": "stdout",
     "output_type": "stream",
     "text": [
      "(104545, 11)\n",
      "(104544,)\n",
      "(10,)\n",
      "(104544, 10)\n"
     ]
    }
   ],
   "source": [
    "# Quickscat\n",
    "all_data = np.loadtxt(f'{PROJ_ROOT}/data/NASA_R3/raw_telemetry/quickscat/fault_quickscat.csv',\n",
    "                 delimiter=\",\", dtype=str)\n",
    "print(all_data.shape)\n",
    "\n",
    "times = all_data[1:,0]\n",
    "var_names = all_data[0,1:]\n",
    "data = all_data[1:,1:].astype(float)\n",
    "\n",
    "print(times.shape)\n",
    "print(var_names.shape)\n",
    "print(data.shape)"
   ]
  },
  {
   "cell_type": "code",
   "execution_count": 42,
   "id": "7eab29a5",
   "metadata": {},
   "outputs": [
    {
     "name": "stdout",
     "output_type": "stream",
     "text": [
      "(759, 17)\n",
      "(758,)\n",
      "(16,)\n",
      "(758, 16)\n"
     ]
    }
   ],
   "source": [
    "# KSP Orbital Satellite\n",
    "all_data = np.loadtxt(f'{PROJ_ROOT}/data/NASA_R3/raw_telemetry/ksp_orbital_satellite/errors/Pressure_Caused_Navigation_SEU.csv',\n",
    "                 delimiter=\",\", dtype=str)\n",
    "#all_data = all_data[:,:-1] #do this for no_errors/Orbit_No_Errors_Chunk_1.csv\n",
    "print(all_data.shape)\n",
    "\n",
    "times = all_data[1:,0]\n",
    "var_names = all_data[0,1:]\n",
    "data = all_data[1:,1:].astype(float)\n",
    "\n",
    "print(times.shape)\n",
    "print(var_names.shape)\n",
    "print(data.shape)"
   ]
  },
  {
   "cell_type": "code",
   "execution_count": 4,
   "id": "201ff940",
   "metadata": {},
   "outputs": [
    {
     "name": "stdout",
     "output_type": "stream",
     "text": [
      "(104544,)\n",
      "(10,)\n",
      "(104544, 10)\n",
      "(3000,)\n",
      "(3000, 10)\n"
     ]
    }
   ],
   "source": [
    "# Make smaller subset of data if desired\n",
    "print(times.shape)\n",
    "print(var_names.shape)\n",
    "print(data.shape)\n",
    "small_times = times[:3000]\n",
    "small_data = data[:3000,:]\n",
    "print(small_times.shape)\n",
    "print(small_data.shape)"
   ]
  },
  {
   "cell_type": "code",
   "execution_count": 5,
   "id": "b6b6dd87",
   "metadata": {},
   "outputs": [],
   "source": [
    "# Create dataframe and pcmci object\n",
    "dataframe = pp.DataFrame(small_data, \n",
    "                         datatime=small_times, \n",
    "                         var_names=var_names)\n",
    "\n",
    "parcorr = ParCorr(significance='analytic')\n",
    "\n",
    "pcmci = PCMCI(dataframe=dataframe, \n",
    "              cond_ind_test=parcorr,\n",
    "              verbosity=0)"
   ]
  },
  {
   "cell_type": "code",
   "execution_count": 6,
   "id": "a22dde3d",
   "metadata": {},
   "outputs": [
    {
     "name": "stdout",
     "output_type": "stream",
     "text": [
      "Intel MKL WARNING: Support of Intel(R) Streaming SIMD Extensions 4.2 (Intel(R) SSE4.2) enabled only processors has been deprecated. Intel oneAPI Math Kernel Library 2025.0 will require Intel(R) Advanced Vector Extensions (Intel(R) AVX) instructions.\n"
     ]
    }
   ],
   "source": [
    "# Run once\n",
    "results = pcmci.run_pcmci(pc_alpha=0.01, tau_max=1)"
   ]
  },
  {
   "cell_type": "code",
   "execution_count": 84,
   "id": "bbefc0a2",
   "metadata": {},
   "outputs": [
    {
     "name": "stdout",
     "output_type": "stream",
     "text": [
      "0.26195130348205564\n"
     ]
    }
   ],
   "source": [
    "# Get average runtime\n",
    "num_runs = 50\n",
    "total = 0\n",
    "for i in range(num_runs):\n",
    "    start = time.time()\n",
    "    results = pcmci.run_pcmci(pc_alpha=0.01, tau_max=3)\n",
    "    end = time.time()\n",
    "    total+=(end - start)\n",
    "avg_time = total/num_runs\n",
    "print(avg_time)"
   ]
  },
  {
   "cell_type": "code",
   "execution_count": 7,
   "id": "2ce10c6b",
   "metadata": {},
   "outputs": [
    {
     "name": "stdout",
     "output_type": "stream",
     "text": [
      "(10, 10, 2)\n",
      "(10, 10, 2)\n",
      "(10, 10, 2)\n"
     ]
    }
   ],
   "source": [
    "graph = results['graph']\n",
    "val_matrix = results['val_matrix']\n",
    "p_matrix = results['p_matrix']\n",
    "\n",
    "print(graph.shape)\n",
    "print(val_matrix.shape)\n",
    "print(p_matrix.shape)"
   ]
  },
  {
   "cell_type": "code",
   "execution_count": 8,
   "id": "0189474e",
   "metadata": {},
   "outputs": [
    {
     "name": "stdout",
     "output_type": "stream",
     "text": [
      "(10, 10)\n",
      "(10,)\n",
      "TCPV6T_(C) --> TCPV6T_(C)\n",
      "PWBUSV_(V)_min --> PWBUSV_(V)\n",
      "PWBUSV_(V)_min --> PWBUSV_(V)_min\n",
      "PWBUSV_(V)_min --> PWBUSV_(V)_max\n",
      "PWBUSV_(V)_count --> PWBUSV_(V)_count\n",
      "TRW1MT_(C)_min --> TRW1MT_(C)\n",
      "TRW1MT_(C)_min --> TRW1MT_(C)_min\n",
      "TRW1MT_(C) --> TRW1MT_(C)_max\n",
      "PWBUSV_(V) --> TRW1MT_(C)_count\n",
      "PWBUSI_(A) --> PWBUSI_(A)\n"
     ]
    }
   ],
   "source": [
    "# Get the most correlated mnemonic for each mnemonic\n",
    "tau = 1\n",
    "tau_vals = val_matrix[:,:,tau]\n",
    "print(tau_vals.shape)\n",
    "max_corr = np.argmax(tau_vals, axis=0)\n",
    "print(max_corr.shape)\n",
    "\n",
    "for i in range(len(tau_vals)):\n",
    "    print(f'{var_names[max_corr[i]]} --> {var_names[i]}')"
   ]
  },
  {
   "cell_type": "code",
   "execution_count": null,
   "id": "555b0043",
   "metadata": {},
   "outputs": [],
   "source": []
  }
 ],
 "metadata": {
  "kernelspec": {
   "display_name": "Python 3 (ipykernel)",
   "language": "python",
   "name": "python3"
  },
  "language_info": {
   "codemirror_mode": {
    "name": "ipython",
    "version": 3
   },
   "file_extension": ".py",
   "mimetype": "text/x-python",
   "name": "python",
   "nbconvert_exporter": "python",
   "pygments_lexer": "ipython3",
   "version": "3.10.11"
  }
 },
 "nbformat": 4,
 "nbformat_minor": 5
}
