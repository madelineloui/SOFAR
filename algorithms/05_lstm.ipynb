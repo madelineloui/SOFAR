{
 "cells": [
  {
   "cell_type": "code",
   "execution_count": 1,
   "id": "e861b224",
   "metadata": {},
   "outputs": [],
   "source": [
    "import torch\n",
    "import torch.nn as nn\n",
    "import torch.utils.data as data\n",
    "from torch.utils.data import Dataset\n",
    "import torch.optim as optim\n",
    "import pandas as pd\n",
    "import numpy as np\n",
    "import tqdm\n",
    "import matplotlib.pyplot as plt"
   ]
  },
  {
   "cell_type": "code",
   "execution_count": 2,
   "id": "21339634",
   "metadata": {},
   "outputs": [],
   "source": [
    "PROJ_ROOT = '/Users/mloui/Documents/STAR/SOFAR'"
   ]
  },
  {
   "cell_type": "code",
   "execution_count": 3,
   "id": "93ef820c",
   "metadata": {},
   "outputs": [],
   "source": [
    "class simpleLSTM(nn.Module):\n",
    "    def __init__(self, data_dim=1):\n",
    "        super().__init__()\n",
    "        self.lstm = nn.LSTM(input_size=data_dim, hidden_size=50, num_layers=1, batch_first=True)\n",
    "        self.linear = nn.Linear(50, data_dim)\n",
    "    def forward(self, x):\n",
    "        #print(x.shape)\n",
    "        x, _ = self.lstm(x)\n",
    "        #print(x.shape)\n",
    "        x = self.linear(x)\n",
    "        #print(x.shape)\n",
    "        #print()\n",
    "        return x"
   ]
  },
  {
   "cell_type": "code",
   "execution_count": 4,
   "id": "126d2944",
   "metadata": {},
   "outputs": [],
   "source": [
    "class lstmDataset(Dataset):\n",
    "    \n",
    "    def __init__(self, x, y):\n",
    "        self.x = x\n",
    "        self.y = y\n",
    "    \n",
    "    def __getitem__(self, index):\n",
    "        sample = {\n",
    "            'x': self.x[index].clone().detach().float(),\n",
    "            'y': self.y[index].clone().detach().float()}\n",
    "        return sample\n",
    "    \n",
    "    def __len__(self):\n",
    "        return len(self.x)"
   ]
  },
  {
   "cell_type": "code",
   "execution_count": 73,
   "id": "dae1267f",
   "metadata": {},
   "outputs": [],
   "source": [
    "def create_dataset(dataset, lookback, normalize=True):\n",
    "    \"\"\"Transform a time series into a prediction dataset\n",
    "    \n",
    "    Args:\n",
    "        dataset: A numpy array of time series, first dimension is the time steps\n",
    "        lookback: Size of window for prediction\n",
    "    \"\"\"\n",
    "    # Normalize each variable\n",
    "    min_vals = np.amin(dataset, axis=0)\n",
    "    max_vals = np.amax(dataset, axis=0)\n",
    "    min_arr = np.repeat(np.expand_dims(min_vals, axis=0), len(dataset), axis=0)\n",
    "    max_arr = np.repeat(np.expand_dims(max_vals, axis=0), len(dataset), axis=0)\n",
    "    dataset = (dataset-min_arr)/(max_arr-min_arr)\n",
    "    \n",
    "    x, y = [], []\n",
    "    for i in range(len(dataset)-lookback):\n",
    "        feature = dataset[i:i+lookback]\n",
    "        target = dataset[i+1:i+lookback+1]\n",
    "        x.append(feature)\n",
    "        y.append(target)\n",
    "    return x, y, lstmDataset(torch.tensor(np.array(x)), torch.tensor(np.array(y)))"
   ]
  },
  {
   "cell_type": "code",
   "execution_count": 10,
   "id": "88decf1a",
   "metadata": {},
   "outputs": [
    {
     "name": "stdout",
     "output_type": "stream",
     "text": [
      "(540000, 16)\n",
      "(540000, 13)\n",
      "[ 4.27489169  1.61377738  3.28712251  7.9413146   0.25554456  0.63067393\n",
      "  7.96395936  0.26761411  0.20830884 -0.51720671  0.15783271  0.18073429\n",
      " 10.        ]\n"
     ]
    }
   ],
   "source": [
    "# Load training data\n",
    "normal_data = pd.read_csv(f'{PROJ_ROOT}/data/simulated/sim_train1.csv')\n",
    "all_data = normal_data.to_numpy()\n",
    "print(all_data.shape)\n",
    "# Remove fault columns\n",
    "use_data = all_data[:,:-3]\n",
    "print(use_data.shape)\n",
    "print(use_data[10])"
   ]
  },
  {
   "cell_type": "code",
   "execution_count": 70,
   "id": "0eeb0a60",
   "metadata": {},
   "outputs": [
    {
     "name": "stdout",
     "output_type": "stream",
     "text": [
      "torch.Size([431984, 20, 13])\n",
      "torch.Size([431984, 20, 13])\n",
      "torch.Size([107996, 20, 13])\n",
      "torch.Size([107996, 20, 13])\n"
     ]
    }
   ],
   "source": [
    "# Create training and test sets\n",
    "lookback = 20\n",
    "dataset = create_dataset(use_data, lookback)\n",
    "train, test = data.random_split(dataset, [0.8, 0.2])\n",
    "x_train = train[:]['x']\n",
    "y_train = train[:]['y']\n",
    "#y_train = torch.unsqueeze(train[:]['y'], dim=1)\n",
    "x_test = test[:]['x']\n",
    "y_test = test[:]['y']\n",
    "#y_test = torch.unsqueeze(test[:]['y'], dim=1)\n",
    "print(x_train.shape)\n",
    "print(y_train.shape)\n",
    "print(x_test.shape)\n",
    "print(y_test.shape)"
   ]
  },
  {
   "cell_type": "code",
   "execution_count": 69,
   "id": "612254ef",
   "metadata": {},
   "outputs": [
    {
     "name": "stdout",
     "output_type": "stream",
     "text": [
      "tensor([0.4649, 0.6445, 0.5344, 0.7655, 0.7493, 0.7514, 0.0862, 0.2101, 0.8247,\n",
      "        0.7240, 0.0268, 0.0176, 0.7694])\n",
      "tensor([0.2790, 0.4897, 0.1608, 0.0047, 0.3792, 0.5994, 0.7312, 0.5635, 0.0682,\n",
      "        0.2277, 0.3166, 0.0683, 0.3128])\n",
      "tensor([0.6599, 0.4966, 0.9616, 0.4049, 0.6708, 0.6898, 0.9798, 0.9079, 0.0077,\n",
      "        0.2426, 0.5802, 0.0542, 0.1129])\n",
      "tensor([0.7391, 0.4533, 0.9024, 0.3430, 0.7396, 0.5811, 0.9082, 0.9312, 0.0348,\n",
      "        0.2452, 0.4605, 0.0378, 0.1129])\n"
     ]
    }
   ],
   "source": [
    "print(x_train[0,0])\n",
    "print(y_train[0,0])\n",
    "\n",
    "print(x_test[0,0])\n",
    "print(y_test[0,0])"
   ]
  },
  {
   "cell_type": "code",
   "execution_count": 76,
   "id": "386f901a",
   "metadata": {},
   "outputs": [],
   "source": [
    "x, y, _ = create_dataset(use_data, lookback)"
   ]
  },
  {
   "cell_type": "code",
   "execution_count": 85,
   "id": "18957593",
   "metadata": {},
   "outputs": [
    {
     "name": "stdout",
     "output_type": "stream",
     "text": [
      "[1.58235878e-01 3.40457354e-01 1.08714688e-01 3.45529712e-01\n",
      " 2.85364596e-01 9.56358714e-01 8.98947615e-01 4.45973772e-01\n",
      " 6.03041847e-02 9.86483590e-02 5.48282909e-02 4.67827372e-02\n",
      " 3.70371056e-06]\n",
      "[1.58235878e-01 3.40457354e-01 1.08714688e-01 3.45529712e-01\n",
      " 2.85364596e-01 9.56358714e-01 8.98947615e-01 4.45973772e-01\n",
      " 6.03041847e-02 9.86483590e-02 5.48282909e-02 4.67827372e-02\n",
      " 3.70371056e-06]\n"
     ]
    }
   ],
   "source": [
    "print(x[2][0])\n",
    "print(y[1][0])"
   ]
  },
  {
   "cell_type": "markdown",
   "id": "9f738398",
   "metadata": {},
   "source": [
    "Things to try: https://www.mathworks.com/matlabcentral/answers/1890272-lstm-high-training-loss-not-decreasing-and-remain-constant"
   ]
  },
  {
   "cell_type": "code",
   "execution_count": 46,
   "id": "6bb444df",
   "metadata": {},
   "outputs": [
    {
     "name": "stderr",
     "output_type": "stream",
     "text": [
      "  0%|                                                    | 0/20 [00:02<?, ?it/s]\n",
      "  5%|██▏                                        | 1/20 [02:46<52:44, 166.56s/it]"
     ]
    },
    {
     "name": "stdout",
     "output_type": "stream",
     "text": [
      "Epoch 0: train loss 0.2783, test loss 0.2653\n"
     ]
    },
    {
     "name": "stderr",
     "output_type": "stream",
     "text": [
      "\r",
      " 10%|████▎                                      | 2/20 [05:19<47:34, 158.61s/it]"
     ]
    },
    {
     "name": "stdout",
     "output_type": "stream",
     "text": [
      "Epoch 1: train loss 0.2506, test loss 0.2362\n"
     ]
    },
    {
     "name": "stderr",
     "output_type": "stream",
     "text": [
      "\r",
      " 15%|██████▍                                    | 3/20 [07:40<42:42, 150.75s/it]"
     ]
    },
    {
     "name": "stdout",
     "output_type": "stream",
     "text": [
      "Epoch 2: train loss 0.2192, test loss 0.2017\n"
     ]
    },
    {
     "name": "stderr",
     "output_type": "stream",
     "text": [
      "\r",
      " 20%|████████▌                                  | 4/20 [10:43<43:35, 163.47s/it]"
     ]
    },
    {
     "name": "stdout",
     "output_type": "stream",
     "text": [
      "Epoch 3: train loss 0.1813, test loss 0.1606\n"
     ]
    },
    {
     "name": "stderr",
     "output_type": "stream",
     "text": [
      "\r",
      " 25%|██████████▊                                | 5/20 [13:21<40:18, 161.27s/it]"
     ]
    },
    {
     "name": "stdout",
     "output_type": "stream",
     "text": [
      "Epoch 4: train loss 0.1400, test loss 0.1218\n"
     ]
    },
    {
     "name": "stderr",
     "output_type": "stream",
     "text": [
      "\r",
      " 30%|████████████▉                              | 6/20 [15:44<36:12, 155.15s/it]"
     ]
    },
    {
     "name": "stdout",
     "output_type": "stream",
     "text": [
      "Epoch 5: train loss 0.1084, test loss 0.0983\n"
     ]
    },
    {
     "name": "stderr",
     "output_type": "stream",
     "text": [
      "\r",
      " 35%|███████████████                            | 7/20 [18:17<33:29, 154.55s/it]"
     ]
    },
    {
     "name": "stdout",
     "output_type": "stream",
     "text": [
      "Epoch 6: train loss 0.0909, test loss 0.0848\n"
     ]
    },
    {
     "name": "stderr",
     "output_type": "stream",
     "text": [
      "\r",
      " 40%|█████████████████▏                         | 8/20 [20:47<30:36, 153.03s/it]"
     ]
    },
    {
     "name": "stdout",
     "output_type": "stream",
     "text": [
      "Epoch 7: train loss 0.0808, test loss 0.0768\n"
     ]
    },
    {
     "name": "stderr",
     "output_type": "stream",
     "text": [
      "\r",
      " 45%|███████████████████▎                       | 9/20 [23:04<27:06, 147.87s/it]"
     ]
    },
    {
     "name": "stdout",
     "output_type": "stream",
     "text": [
      "Epoch 8: train loss 0.0745, test loss 0.0712\n"
     ]
    },
    {
     "name": "stderr",
     "output_type": "stream",
     "text": [
      "\r",
      " 50%|█████████████████████                     | 10/20 [25:35<24:47, 148.79s/it]"
     ]
    },
    {
     "name": "stdout",
     "output_type": "stream",
     "text": [
      "Epoch 9: train loss 0.0696, test loss 0.0665\n"
     ]
    },
    {
     "name": "stderr",
     "output_type": "stream",
     "text": [
      "\r",
      " 55%|███████████████████████                   | 11/20 [28:09<22:35, 150.61s/it]"
     ]
    },
    {
     "name": "stdout",
     "output_type": "stream",
     "text": [
      "Epoch 10: train loss 0.0652, test loss 0.0622\n"
     ]
    },
    {
     "name": "stderr",
     "output_type": "stream",
     "text": [
      "\r",
      " 60%|█████████████████████████▏                | 12/20 [30:52<20:35, 154.39s/it]"
     ]
    },
    {
     "name": "stdout",
     "output_type": "stream",
     "text": [
      "Epoch 11: train loss 0.0610, test loss 0.0581\n"
     ]
    },
    {
     "name": "stderr",
     "output_type": "stream",
     "text": [
      "\r",
      " 65%|███████████████████████████▎              | 13/20 [33:23<17:53, 153.41s/it]"
     ]
    },
    {
     "name": "stdout",
     "output_type": "stream",
     "text": [
      "Epoch 12: train loss 0.0568, test loss 0.0540\n"
     ]
    },
    {
     "name": "stderr",
     "output_type": "stream",
     "text": [
      "\r",
      " 70%|█████████████████████████████▍            | 14/20 [36:04<15:33, 155.56s/it]"
     ]
    },
    {
     "name": "stdout",
     "output_type": "stream",
     "text": [
      "Epoch 13: train loss 0.0528, test loss 0.0502\n"
     ]
    },
    {
     "name": "stderr",
     "output_type": "stream",
     "text": [
      "\r",
      " 75%|███████████████████████████████▌          | 15/20 [38:52<13:16, 159.36s/it]"
     ]
    },
    {
     "name": "stdout",
     "output_type": "stream",
     "text": [
      "Epoch 14: train loss 0.0492, test loss 0.0471\n"
     ]
    },
    {
     "name": "stderr",
     "output_type": "stream",
     "text": [
      "\r",
      " 80%|█████████████████████████████████▌        | 16/20 [41:28<10:33, 158.30s/it]"
     ]
    },
    {
     "name": "stdout",
     "output_type": "stream",
     "text": [
      "Epoch 15: train loss 0.0464, test loss 0.0446\n"
     ]
    },
    {
     "name": "stderr",
     "output_type": "stream",
     "text": [
      "\r",
      " 85%|███████████████████████████████████▋      | 17/20 [44:00<07:49, 156.36s/it]"
     ]
    },
    {
     "name": "stdout",
     "output_type": "stream",
     "text": [
      "Epoch 16: train loss 0.0441, test loss 0.0424\n"
     ]
    },
    {
     "name": "stderr",
     "output_type": "stream",
     "text": [
      "\r",
      " 90%|█████████████████████████████████████▊    | 18/20 [46:27<05:07, 153.52s/it]"
     ]
    },
    {
     "name": "stdout",
     "output_type": "stream",
     "text": [
      "Epoch 17: train loss 0.0420, test loss 0.0404\n"
     ]
    },
    {
     "name": "stderr",
     "output_type": "stream",
     "text": [
      "\r",
      " 95%|███████████████████████████████████████▉  | 19/20 [48:41<02:27, 147.78s/it]"
     ]
    },
    {
     "name": "stdout",
     "output_type": "stream",
     "text": [
      "Epoch 18: train loss 0.0399, test loss 0.0384\n"
     ]
    },
    {
     "name": "stderr",
     "output_type": "stream",
     "text": [
      "100%|██████████████████████████████████████████| 20/20 [50:58<00:00, 152.91s/it]"
     ]
    },
    {
     "name": "stdout",
     "output_type": "stream",
     "text": [
      "Epoch 19: train loss 0.0380, test loss 0.0365\n"
     ]
    },
    {
     "name": "stderr",
     "output_type": "stream",
     "text": [
      "\n"
     ]
    }
   ],
   "source": [
    "# Train model\n",
    "batch_size = 128\n",
    "lr = 1e-6\n",
    "weight_decay = 1e-4\n",
    "train_loader = data.DataLoader(data.TensorDataset(x_train, y_train), shuffle=True, batch_size=batch_size)\n",
    "test_loader = data.DataLoader(data.TensorDataset(x_test, y_test), shuffle=True, batch_size=batch_size)\n",
    "model = simpleLSTM(data_dim=use_data.shape[1])\n",
    "optimizer = optim.Adam(model.parameters(),  lr=lr, weight_decay=weight_decay)\n",
    "loss_fn = nn.MSELoss()\n",
    " \n",
    "n_epochs = 20\n",
    "bar = tqdm.tqdm(total=n_epochs)\n",
    "train_loss_list = []\n",
    "val_loss_list = []\n",
    "for epoch in range(n_epochs):\n",
    "    overall_loss = 0\n",
    "    model.train()\n",
    "    cnt = 0\n",
    "    for x_batch, y_batch in train_loader:\n",
    "        y_pred = model(x_batch)\n",
    "        loss = loss_fn(y_pred, y_batch)\n",
    "        optimizer.zero_grad()\n",
    "        overall_loss += loss.item()\n",
    "        loss.backward()\n",
    "        optimizer.step()\n",
    "        cnt += 1\n",
    "    bar.update()\n",
    "    epoch_train_loss = overall_loss/cnt\n",
    "    train_loss_list.append(epoch_train_loss)\n",
    "    # Validation\n",
    "    model.eval()\n",
    "    with torch.no_grad():\n",
    "        '''\n",
    "        y_pred = model(x_train)\n",
    "        train_rmse = np.sqrt(loss_fn(y_pred, y_train))\n",
    "        y_pred = model(x_test)\n",
    "        test_rmse = np.sqrt(loss_fn(y_pred, y_test))\n",
    "        train_loss.append(train_rmse)\n",
    "        val_loss.append(test_rmse)\n",
    "        '''\n",
    "        epoch_val_loss = 0\n",
    "        cnt = 0\n",
    "        for x_test, y_test in test_loader:\n",
    "            y_pred = model(x_test)\n",
    "            val_loss = loss_fn(y_pred, y_test)\n",
    "            epoch_val_loss += val_loss.item()\n",
    "            cnt += 1\n",
    "    epoch_val_loss = epoch_val_loss/cnt\n",
    "    val_loss_list.append(epoch_val_loss)\n",
    "    #print(\"Epoch %d: train RMSE %.4f, test RMSE %.4f\" % (epoch, train_rmse, test_rmse))\n",
    "    print(\"Epoch %d: train loss %.4f, test loss %.4f\" % (epoch, epoch_train_loss, epoch_val_loss))\n",
    "bar.close()"
   ]
  },
  {
   "cell_type": "code",
   "execution_count": 47,
   "id": "e42398ed",
   "metadata": {},
   "outputs": [],
   "source": [
    "torch.save(model.state_dict(), f'{PROJ_ROOT}/models/lstm.pt')"
   ]
  },
  {
   "cell_type": "code",
   "execution_count": 49,
   "id": "03a6a282",
   "metadata": {},
   "outputs": [
    {
     "data": {
      "image/png": "[encoded data removed]",
      "text/plain": [
       "<Figure size 640x480 with 1 Axes>"
      ]
     },
     "metadata": {},
     "output_type": "display_data"
    }
   ],
   "source": [
    "plt.plot(train_loss_list, label='Train loss')\n",
    "plt.plot(val_loss_list, label='Val loss')\n",
    "plt.xlabel('Iterations')\n",
    "plt.ylabel('Loss')\n",
    "plt.legend()\n",
    "plt.show()"
   ]
  },
  {
   "cell_type": "markdown",
   "id": "0596ad8c",
   "metadata": {},
   "source": [
    "### Evaluate"
   ]
  },
  {
   "cell_type": "code",
   "execution_count": 62,
   "id": "f71d922e",
   "metadata": {},
   "outputs": [
    {
     "name": "stdout",
     "output_type": "stream",
     "text": [
      "torch.Size([107996, 20, 13])\n",
      "torch.Size([107996, 20, 13])\n",
      "tensor([0.3088, 0.5682, 0.7921, 0.6106, 0.7367, 0.5799, 0.0808, 0.3153, 0.9132,\n",
      "        0.5700, 0.0276, 0.0796, 0.5790])\n",
      "tensor([0.3663, 0.4131, 0.7109, 0.7177, 0.5829, 0.4122, 0.1528, 0.3142, 0.9175,\n",
      "        0.5521, 0.0457, 0.0600, 0.5790])\n"
     ]
    }
   ],
   "source": [
    "val,_ = data.random_split(dataset, [0.2, 0.8])\n",
    "\n",
    "x_val = val[:]['x']\n",
    "y_val = val[:]['y']\n",
    "\n",
    "print(x_val.shape)\n",
    "print(y_val.shape)\n",
    "\n",
    "print(x_val[0,0])\n",
    "print(y_val[0,0])"
   ]
  },
  {
   "cell_type": "code",
   "execution_count": 65,
   "id": "026c4d7a",
   "metadata": {},
   "outputs": [],
   "source": [
    "lstm_out = model(x_val)"
   ]
  },
  {
   "cell_type": "code",
   "execution_count": 66,
   "id": "e7616d95",
   "metadata": {},
   "outputs": [
    {
     "name": "stdout",
     "output_type": "stream",
     "text": [
      "torch.Size([107996, 20, 13])\n"
     ]
    }
   ],
   "source": [
    "print(lstm_out.shape)"
   ]
  },
  {
   "cell_type": "code",
   "execution_count": 68,
   "id": "6e2677cf",
   "metadata": {},
   "outputs": [
    {
     "name": "stdout",
     "output_type": "stream",
     "text": [
      "tensor([0.3088, 0.5682, 0.7921, 0.6106, 0.7367, 0.5799, 0.0808, 0.3153, 0.9132,\n",
      "        0.5700, 0.0276, 0.0796, 0.5790])\n",
      "tensor([0.3663, 0.4131, 0.7109, 0.7177, 0.5829, 0.4122, 0.1528, 0.3142, 0.9175,\n",
      "        0.5521, 0.0457, 0.0600, 0.5790])\n",
      "tensor([0.2769, 0.3266, 0.3440, 0.3045, 0.3533, 0.3307, 0.3424, 0.1371, 0.2916,\n",
      "        0.3147, 0.0480, 0.0441, 0.2992], grad_fn=<SelectBackward0>)\n"
     ]
    }
   ],
   "source": [
    "print(x_val[0,0])\n",
    "print(y_val[0,0])\n",
    "print(lstm_out[0,0])"
   ]
  },
  {
   "cell_type": "code",
   "execution_count": null,
   "id": "f8505f61",
   "metadata": {},
   "outputs": [],
   "source": []
  }
 ],
 "metadata": {
  "kernelspec": {
   "display_name": "Python 3 (ipykernel)",
   "language": "python",
   "name": "python3"
  },
  "language_info": {
   "codemirror_mode": {
    "name": "ipython",
    "version": 3
   },
   "file_extension": ".py",
   "mimetype": "text/x-python",
   "name": "python",
   "nbconvert_exporter": "python",
   "pygments_lexer": "ipython3",
   "version": "3.10.11"
  }
 },
 "nbformat": 4,
 "nbformat_minor": 5
}
